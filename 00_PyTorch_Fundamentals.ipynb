{
  "cells": [
    {
      "cell_type": "code",
      "execution_count": 3,
      "metadata": {
        "colab": {
          "base_uri": "https://localhost:8080/"
        },
        "id": "ngRj85kBUM-o",
        "outputId": "4aef4291-0f46-4965-cbed-e3bc36dbdf3e"
      },
      "outputs": [
        {
          "name": "stdout",
          "output_type": "stream",
          "text": [
            "2.8.0+cu126\n"
          ]
        }
      ],
      "source": [
        "import torch\n",
        "\n",
        "print(torch.__version__)"
      ]
    },
    {
      "cell_type": "markdown",
      "metadata": {
        "id": "EDMAUU08XsKD"
      },
      "source": [
        "##Introduction to Tensor\n",
        "\n",
        "###Tensor are the way to represent data (multi-dimensional) numeric way"
      ]
    },
    {
      "cell_type": "code",
      "execution_count": null,
      "metadata": {
        "colab": {
          "base_uri": "https://localhost:8080/"
        },
        "id": "nx6fYp9oXuiC",
        "outputId": "ce8feaa3-64ac-4fe7-a594-a28f573b349e"
      },
      "outputs": [
        {
          "data": {
            "text/plain": [
              "tensor(7)"
            ]
          },
          "execution_count": 3,
          "metadata": {},
          "output_type": "execute_result"
        }
      ],
      "source": [
        "## Creating tensor\n",
        "\n",
        "scalar = torch.tensor(7) ##A torch.Tensor is a multi-dimensional matrix containing elements of a single data type.\n",
        "scalar"
      ]
    },
    {
      "cell_type": "code",
      "execution_count": null,
      "metadata": {
        "colab": {
          "base_uri": "https://localhost:8080/"
        },
        "id": "TDMWoMn9XyHu",
        "outputId": "0e38d47d-ee6b-41a7-ca35-24dd9ab358d5"
      },
      "outputs": [
        {
          "data": {
            "text/plain": [
              "0"
            ]
          },
          "execution_count": 4,
          "metadata": {},
          "output_type": "execute_result"
        }
      ],
      "source": [
        "#check the dimensions (ndim number of dimensions)\n",
        "scalar.ndim"
      ]
    },
    {
      "cell_type": "code",
      "execution_count": null,
      "metadata": {
        "colab": {
          "base_uri": "https://localhost:8080/"
        },
        "id": "_gOLC3J7ZI0L",
        "outputId": "b9b0e71b-04b3-4d95-f645-9901a8c215d9"
      },
      "outputs": [
        {
          "data": {
            "text/plain": [
              "7"
            ]
          },
          "execution_count": 21,
          "metadata": {},
          "output_type": "execute_result"
        }
      ],
      "source": [
        "#Get tensor back as an python int\n",
        "scalar.item()"
      ]
    },
    {
      "cell_type": "code",
      "execution_count": null,
      "metadata": {
        "colab": {
          "base_uri": "https://localhost:8080/"
        },
        "id": "GSNUleRkZj9k",
        "outputId": "5502a283-5e4b-4600-c205-699f31926e9c"
      },
      "outputs": [
        {
          "data": {
            "text/plain": [
              "tensor([7, 7])"
            ]
          },
          "execution_count": 22,
          "metadata": {},
          "output_type": "execute_result"
        }
      ],
      "source": [
        "#Vector\n",
        "vector = torch.tensor([7,7])\n",
        "vector"
      ]
    },
    {
      "cell_type": "code",
      "execution_count": null,
      "metadata": {
        "colab": {
          "base_uri": "https://localhost:8080/"
        },
        "id": "gE1fO0BSZ0SA",
        "outputId": "6efdf240-b65d-4d86-83b0-e20abdb1a50d"
      },
      "outputs": [
        {
          "data": {
            "text/plain": [
              "tensor([[ 7,  8],\n",
              "        [ 9, 10]])"
            ]
          },
          "execution_count": 26,
          "metadata": {},
          "output_type": "execute_result"
        }
      ],
      "source": [
        "#MATRIX\n",
        "MATRIX = torch.tensor([[7,8],[9,10]])\n",
        "MATRIX"
      ]
    },
    {
      "cell_type": "code",
      "execution_count": null,
      "metadata": {
        "colab": {
          "base_uri": "https://localhost:8080/"
        },
        "id": "yyq2AUa7bKZT",
        "outputId": "62523038-9732-44a1-a36b-9b38f53971be"
      },
      "outputs": [
        {
          "data": {
            "text/plain": [
              "tensor([ 9, 10])"
            ]
          },
          "execution_count": 32,
          "metadata": {},
          "output_type": "execute_result"
        }
      ],
      "source": [
        "MATRIX[1]"
      ]
    },
    {
      "cell_type": "code",
      "execution_count": null,
      "metadata": {
        "colab": {
          "base_uri": "https://localhost:8080/"
        },
        "id": "5xvL9ESdbYLE",
        "outputId": "2dc48a9f-8443-4cbe-edcd-51b5b9a65de0"
      },
      "outputs": [
        {
          "data": {
            "text/plain": [
              "torch.Size([2, 2])"
            ]
          },
          "execution_count": 34,
          "metadata": {},
          "output_type": "execute_result"
        }
      ],
      "source": [
        "MATRIX.shape"
      ]
    },
    {
      "cell_type": "code",
      "execution_count": null,
      "metadata": {
        "colab": {
          "base_uri": "https://localhost:8080/"
        },
        "id": "Fs_Jo9CrbkBS",
        "outputId": "84d83428-e4d8-44f1-ec4d-40a04f43bc93"
      },
      "outputs": [
        {
          "data": {
            "text/plain": [
              "tensor([[[1, 2],\n",
              "         [3, 6],\n",
              "         [2, 4]]])"
            ]
          },
          "execution_count": 38,
          "metadata": {},
          "output_type": "execute_result"
        }
      ],
      "source": [
        "#Tensor\n",
        "TENSOR = torch.tensor([[[1,2],[3,6],[2,4]]])\n",
        "TENSOR"
      ]
    },
    {
      "cell_type": "code",
      "execution_count": null,
      "metadata": {
        "colab": {
          "base_uri": "https://localhost:8080/"
        },
        "id": "VCzT2WFDbxQw",
        "outputId": "7c2caffb-cfdc-4de6-a40a-c2b694b27566"
      },
      "outputs": [
        {
          "data": {
            "text/plain": [
              "torch.Size([1, 3, 2])"
            ]
          },
          "execution_count": 40,
          "metadata": {},
          "output_type": "execute_result"
        }
      ],
      "source": [
        "TENSOR.shape"
      ]
    },
    {
      "cell_type": "markdown",
      "metadata": {
        "id": "35LmSijAPKX7"
      },
      "source": [
        "#RANDOM TENSORS\n",
        "\n",
        "Random tensors are very important becasue the way most of the neural netorks learn is that they start starts with full of random tensors and then adjust it to better represent the data\n",
        "\n",
        "`Start with random numbers => look at the data => update the random numbers => look at data => update the random numbers`\n"
      ]
    },
    {
      "cell_type": "code",
      "execution_count": null,
      "metadata": {
        "colab": {
          "base_uri": "https://localhost:8080/"
        },
        "id": "BUh3IyjzPNes",
        "outputId": "75da26b2-9888-4a38-dc1b-f980c4589c6d"
      },
      "outputs": [
        {
          "data": {
            "text/plain": [
              "tensor([0.4925, 0.7927, 0.5219, 0.6317])"
            ]
          },
          "execution_count": 5,
          "metadata": {},
          "output_type": "execute_result"
        }
      ],
      "source": [
        "RANDOM_TENSORS = torch.rand(4)\n",
        "RANDOM_TENSORS"
      ]
    },
    {
      "cell_type": "code",
      "execution_count": null,
      "metadata": {
        "colab": {
          "base_uri": "https://localhost:8080/"
        },
        "id": "prHz5NETQ3aO",
        "outputId": "04dcf64d-cfce-4fd0-a6ea-c40fecb8bf34"
      },
      "outputs": [
        {
          "data": {
            "text/plain": [
              "tensor([[0.9840, 0.7028, 0.2537, 0.1702],\n",
              "        [0.6098, 0.9079, 0.6550, 0.7215],\n",
              "        [0.9948, 0.2331, 0.0337, 0.6374]])"
            ]
          },
          "execution_count": 8,
          "metadata": {},
          "output_type": "execute_result"
        }
      ],
      "source": [
        "RANDOM_TENSORS = torch.rand(3,4)\n",
        "RANDOM_TENSORS"
      ]
    },
    {
      "cell_type": "code",
      "execution_count": null,
      "metadata": {
        "colab": {
          "base_uri": "https://localhost:8080/"
        },
        "id": "DFRbL3ghROGB",
        "outputId": "53003506-8633-4a9f-b52b-ed3efba6dc3d"
      },
      "outputs": [
        {
          "data": {
            "text/plain": [
              "tensor([[[0.6023, 0.4794, 0.4304],\n",
              "         [0.2472, 0.3556, 0.5148],\n",
              "         [0.5863, 0.0559, 0.9286],\n",
              "         ...,\n",
              "         [0.9101, 0.8910, 0.0240],\n",
              "         [0.6824, 0.8387, 0.2491],\n",
              "         [0.7763, 0.9774, 0.8969]],\n",
              "\n",
              "        [[0.6405, 0.5613, 0.5875],\n",
              "         [0.5769, 0.2474, 0.7903],\n",
              "         [0.2913, 0.3482, 0.8758],\n",
              "         ...,\n",
              "         [0.1273, 0.7600, 0.0017],\n",
              "         [0.0472, 0.9493, 0.4571],\n",
              "         [0.1142, 0.3723, 0.3875]],\n",
              "\n",
              "        [[0.5191, 0.6965, 0.8263],\n",
              "         [0.7970, 0.0814, 0.5826],\n",
              "         [0.2526, 0.9183, 0.6615],\n",
              "         ...,\n",
              "         [0.1091, 0.9361, 0.9021],\n",
              "         [0.7885, 0.9680, 0.2438],\n",
              "         [0.3009, 0.4315, 0.1565]],\n",
              "\n",
              "        ...,\n",
              "\n",
              "        [[0.0996, 0.4746, 0.5344],\n",
              "         [0.0409, 0.8842, 0.7860],\n",
              "         [0.8876, 0.9518, 0.2729],\n",
              "         ...,\n",
              "         [0.6511, 0.0609, 0.2393],\n",
              "         [0.5395, 0.5381, 0.8223],\n",
              "         [0.6435, 0.7541, 0.5897]],\n",
              "\n",
              "        [[0.5844, 0.0163, 0.5026],\n",
              "         [0.1350, 0.8911, 0.1788],\n",
              "         [0.1241, 0.8618, 0.6324],\n",
              "         ...,\n",
              "         [0.1009, 0.5950, 0.7371],\n",
              "         [0.1833, 0.6163, 0.7755],\n",
              "         [0.5221, 0.6853, 0.2996]],\n",
              "\n",
              "        [[0.6279, 0.4551, 0.5536],\n",
              "         [0.6147, 0.1853, 0.5930],\n",
              "         [0.3758, 0.8371, 0.8191],\n",
              "         ...,\n",
              "         [0.9483, 0.4312, 0.0856],\n",
              "         [0.6334, 0.7921, 0.6336],\n",
              "         [0.2059, 0.6428, 0.9639]]])"
            ]
          },
          "execution_count": 10,
          "metadata": {},
          "output_type": "execute_result"
        }
      ],
      "source": [
        "#Create a random tensor with similar shape to an image tensor\n",
        "random_image_size_tensor = torch.rand(size=(224,224,3))   #height,width,number of color channels (R,G,B)\n",
        "random_image_size_tensor"
      ]
    },
    {
      "cell_type": "markdown",
      "metadata": {
        "id": "b1CgKoUbGT9G"
      },
      "source": [
        "###Zeros and Ones Tensor"
      ]
    },
    {
      "cell_type": "code",
      "execution_count": 6,
      "metadata": {
        "colab": {
          "base_uri": "https://localhost:8080/"
        },
        "id": "1gO5AAQqGc-X",
        "outputId": "d213b785-0cd6-416f-898f-20e1231a6e52"
      },
      "outputs": [
        {
          "data": {
            "text/plain": [
              "tensor([[[0., 0., 0.],\n",
              "         [0., 0., 0.]],\n",
              "\n",
              "        [[0., 0., 0.],\n",
              "         [0., 0., 0.]],\n",
              "\n",
              "        [[0., 0., 0.],\n",
              "         [0., 0., 0.]],\n",
              "\n",
              "        [[0., 0., 0.],\n",
              "         [0., 0., 0.]]])"
            ]
          },
          "execution_count": 6,
          "metadata": {},
          "output_type": "execute_result"
        }
      ],
      "source": [
        "#Creating a tensor with only zeros\n",
        "zeros = torch.zeros(4,2,3)\n",
        "zeros"
      ]
    },
    {
      "cell_type": "code",
      "execution_count": 8,
      "metadata": {
        "colab": {
          "base_uri": "https://localhost:8080/"
        },
        "id": "8mxHjojpGfh3",
        "outputId": "d07df4ea-07e9-412e-a559-f70b1f25da76"
      },
      "outputs": [
        {
          "data": {
            "text/plain": [
              "tensor([[[1., 1., 1.],\n",
              "         [1., 1., 1.]],\n",
              "\n",
              "        [[1., 1., 1.],\n",
              "         [1., 1., 1.]],\n",
              "\n",
              "        [[1., 1., 1.],\n",
              "         [1., 1., 1.]],\n",
              "\n",
              "        [[1., 1., 1.],\n",
              "         [1., 1., 1.]]])"
            ]
          },
          "execution_count": 8,
          "metadata": {},
          "output_type": "execute_result"
        }
      ],
      "source": [
        "#Creating a tensor witl all ones\n",
        "ones = torch.ones(size=(4,2,3))\n",
        "ones"
      ]
    },
    {
      "cell_type": "code",
      "execution_count": 9,
      "metadata": {
        "colab": {
          "base_uri": "https://localhost:8080/"
        },
        "id": "UEUfpYStHHb6",
        "outputId": "9066fe10-4933-497b-8ba3-220a6d3ae091"
      },
      "outputs": [
        {
          "data": {
            "text/plain": [
              "torch.float32"
            ]
          },
          "execution_count": 9,
          "metadata": {},
          "output_type": "execute_result"
        }
      ],
      "source": [
        "ones.dtype"
      ]
    },
    {
      "cell_type": "code",
      "execution_count": 10,
      "metadata": {
        "colab": {
          "base_uri": "https://localhost:8080/"
        },
        "id": "Yg5xUKcQHLlq",
        "outputId": "5e3a507b-b3f2-4558-fa49-90b62bc2f7b9"
      },
      "outputs": [
        {
          "data": {
            "text/plain": [
              "torch.float32"
            ]
          },
          "execution_count": 10,
          "metadata": {},
          "output_type": "execute_result"
        }
      ],
      "source": [
        "zeros.dtype"
      ]
    },
    {
      "cell_type": "markdown",
      "metadata": {
        "id": "wEBL-Yl6HcAT"
      },
      "source": [
        "###Creating a range of tensors and tensors-like"
      ]
    },
    {
      "cell_type": "code",
      "execution_count": 20,
      "metadata": {
        "colab": {
          "base_uri": "https://localhost:8080/"
        },
        "id": "ov0UlcQzHjqT",
        "outputId": "862c20aa-14f9-42e1-bb50-7c3c8ff8ebda"
      },
      "outputs": [
        {
          "data": {
            "text/plain": [
              "tensor([0, 4, 8])"
            ]
          },
          "execution_count": 20,
          "metadata": {},
          "output_type": "execute_result"
        }
      ],
      "source": [
        "one_to_ten_four = torch.arange(0,10,4) #first number is the starting point, second number is the ending point, and 3rd number is the number of sequence (in our case multiples of 4)\n",
        "one_to_ten_four"
      ]
    },
    {
      "cell_type": "code",
      "execution_count": 22,
      "metadata": {
        "colab": {
          "base_uri": "https://localhost:8080/"
        },
        "id": "gDwRNnk7Ht03",
        "outputId": "d1053e87-3722-47a2-f03e-2fdfefe51609"
      },
      "outputs": [
        {
          "data": {
            "text/plain": [
              "tensor([0, 0, 0])"
            ]
          },
          "execution_count": 22,
          "metadata": {},
          "output_type": "execute_result"
        }
      ],
      "source": [
        "#Creating tensors-like\n",
        "ten_zeros = torch.zeros_like(input=one_to_ten_four)\n",
        "ten_zeros"
      ]
    },
    {
      "cell_type": "markdown",
      "metadata": {
        "id": "LBf2knxSJsgw"
      },
      "source": [
        "###Tensors Data types"
      ]
    },
    {
      "cell_type": "code",
      "execution_count": 3,
      "metadata": {
        "colab": {
          "base_uri": "https://localhost:8080/"
        },
        "id": "fLRa7t6rJvq0",
        "outputId": "9c12fb47-98f6-4c43-c230-1919f59d7eef"
      },
      "outputs": [
        {
          "data": {
            "text/plain": [
              "tensor([3., 4., 5.])"
            ]
          },
          "execution_count": 3,
          "metadata": {},
          "output_type": "execute_result"
        }
      ],
      "source": [
        "float_32_tensors = torch.tensor([3.0,4.0,5.0],\n",
        "                                dtype=torch.float32, #Data type\n",
        "                                device='cpu', #what device it runs on cpu|gpu(cuda)|tpu etc\n",
        "                                requires_grad=False #whether or not track gradiants with this tensor\n",
        "                                )\n",
        "float_32_tensors"
      ]
    },
    {
      "cell_type": "code",
      "execution_count": 4,
      "metadata": {
        "colab": {
          "base_uri": "https://localhost:8080/"
        },
        "id": "l2FaA7lFKaAq",
        "outputId": "90febaf6-89c6-4b8c-a9c1-bfea5d000d4b"
      },
      "outputs": [
        {
          "data": {
            "text/plain": [
              "torch.float32"
            ]
          },
          "execution_count": 4,
          "metadata": {},
          "output_type": "execute_result"
        }
      ],
      "source": [
        "float_32_tensors.dtype"
      ]
    },
    {
      "cell_type": "markdown",
      "metadata": {
        "id": "MM736O-mNJNV"
      },
      "source": [
        "##Getting information from tensors\n",
        "\n",
        "###Three big problem with the neural networks\n",
        "1. Tensors not right datatype\n",
        "2. Tensors not right shape\n",
        "3. Tensors not on the right device"
      ]
    },
    {
      "cell_type": "code",
      "execution_count": 11,
      "metadata": {
        "colab": {
          "base_uri": "https://localhost:8080/"
        },
        "id": "RvMbKAZ4NLRj",
        "outputId": "98f3b60f-7a10-4a02-c6eb-f35d5e3c5a80"
      },
      "outputs": [
        {
          "name": "stdout",
          "output_type": "stream",
          "text": [
            "tensor([[0.3529, 0.3920, 0.0093, 0.7303],\n",
            "        [0.2740, 0.6743, 0.4491, 0.0403],\n",
            "        [0.3154, 0.0848, 0.8246, 0.6166],\n",
            "        [0.8801, 0.7376, 0.6002, 0.8566]], device='cuda:0')\n",
            "Datatype of tensor: torch.float32\n",
            "Shape of tensor: torch.Size([4, 4])\n",
            "Device of tensor: cuda:0\n"
          ]
        }
      ],
      "source": [
        "#Creating a tensor\n",
        "some_tensor = torch.rand(4,4, device='cuda') #cuda for gpu\n",
        "\n",
        "#Find the details of tensors\n",
        "print(some_tensor)\n",
        "print(f\"Datatype of tensor: {some_tensor.dtype}\")\n",
        "print(f\"Shape of tensor: {some_tensor.shape}\") #shape or size both same\n",
        "print(f\"Device of tensor: {some_tensor.device}\")"
      ]
    },
    {
      "cell_type": "code",
      "execution_count": 12,
      "metadata": {
        "colab": {
          "base_uri": "https://localhost:8080/"
        },
        "id": "Ya2D5PSIOjl-",
        "outputId": "70c77b61-7fce-4a78-8d30-6c0a9febe02d"
      },
      "outputs": [
        {
          "name": "stdout",
          "output_type": "stream",
          "text": [
            "CPU times: user 0 ns, sys: 661 µs, total: 661 µs\n",
            "Wall time: 452 µs\n"
          ]
        },
        {
          "data": {
            "text/plain": [
              "tensor([[1.2454e-01, 1.5367e-01, 8.7087e-05, 5.3330e-01],\n",
              "        [7.5079e-02, 4.5462e-01, 2.0167e-01, 1.6270e-03],\n",
              "        [9.9492e-02, 7.1968e-03, 6.8000e-01, 3.8014e-01],\n",
              "        [7.7454e-01, 5.4408e-01, 3.6023e-01, 7.3374e-01]], device='cuda:0')"
            ]
          },
          "execution_count": 12,
          "metadata": {},
          "output_type": "execute_result"
        }
      ],
      "source": [
        "#checking the time\n",
        "%%time\n",
        "some_tensor*some_tensor"
      ]
    },
    {
      "cell_type": "code",
      "execution_count": 13,
      "metadata": {
        "colab": {
          "base_uri": "https://localhost:8080/"
        },
        "id": "sgXFyy4hQi0w",
        "outputId": "2c64f5a1-58fe-4fce-bbbe-d54670bd9444"
      },
      "outputs": [
        {
          "name": "stdout",
          "output_type": "stream",
          "text": [
            "CPU times: user 23.5 ms, sys: 6.88 ms, total: 30.4 ms\n",
            "Wall time: 123 ms\n"
          ]
        },
        {
          "data": {
            "text/plain": [
              "tensor([[0.8776, 0.9421, 0.6253, 0.9048],\n",
              "        [0.4586, 0.6299, 0.6999, 0.5387],\n",
              "        [0.9373, 0.7056, 1.0911, 1.2703],\n",
              "        [1.4559, 1.5251, 1.3485, 1.7762]], device='cuda:0')"
            ]
          },
          "execution_count": 13,
          "metadata": {},
          "output_type": "execute_result"
        }
      ],
      "source": [
        "%%time\n",
        "torch.matmul(some_tensor,some_tensor)"
      ]
    },
    {
      "cell_type": "markdown",
      "metadata": {
        "id": "_BpXnVRXTZ0O"
      },
      "source": [
        "###Reshaping, stacking, squeezing, and unsqueezing tensors\n",
        "* Reshaping - reshape an input tensor to required shape\n",
        "* View - return a view of an input tensor\n",
        "* Stacking - combine multiple tensors in a stack (vstack - vertical or hstack - horizontal)\n",
        "* Squeezing - removes all `1` dimensions from a tensor\n",
        "* Unsqueezing - add a `1` dimension to a tensor\n",
        "* Permute - Return a view with dimensions permuted (swaped) in a certain way"
      ]
    },
    {
      "cell_type": "code",
      "execution_count": 14,
      "metadata": {
        "colab": {
          "base_uri": "https://localhost:8080/"
        },
        "id": "vE2d6YBaUwZr",
        "outputId": "8ce60e9b-d3ff-4024-8f8b-5075b89aa4bf"
      },
      "outputs": [
        {
          "data": {
            "text/plain": [
              "(tensor([0, 1, 2, 3, 4, 5, 6, 7, 8, 9]), torch.Size([10]))"
            ]
          },
          "execution_count": 14,
          "metadata": {},
          "output_type": "execute_result"
        }
      ],
      "source": [
        "#create a tensor\n",
        "x = torch.arange(0,10,1)\n",
        "x, x.shape"
      ]
    },
    {
      "cell_type": "code",
      "execution_count": 23,
      "metadata": {
        "colab": {
          "base_uri": "https://localhost:8080/"
        },
        "id": "Bv5F5dH1VGsD",
        "outputId": "edf29e69-a48f-43e2-babc-5a53764450a1"
      },
      "outputs": [
        {
          "data": {
            "text/plain": [
              "(tensor([[0, 1, 2, 3, 4, 5, 6, 7, 8, 9]]), torch.Size([1, 10]))"
            ]
          },
          "execution_count": 23,
          "metadata": {},
          "output_type": "execute_result"
        }
      ],
      "source": [
        "#adding an additional dimension\n",
        "x_reshape = x.reshape(1,10)\n",
        "x_reshape, x_reshape.shape"
      ]
    },
    {
      "cell_type": "code",
      "execution_count": 30,
      "metadata": {
        "colab": {
          "base_uri": "https://localhost:8080/"
        },
        "id": "ZEJt2ERwVrAx",
        "outputId": "255d56e5-1da5-4f14-8e01-e9b94960cd67"
      },
      "outputs": [
        {
          "data": {
            "text/plain": [
              "(tensor([[0, 1, 2, 3, 4, 5, 6, 7, 8, 9]]), torch.Size([1, 10]))"
            ]
          },
          "execution_count": 30,
          "metadata": {},
          "output_type": "execute_result"
        }
      ],
      "source": [
        "#changing the view, z&x here shares the same memory just different way to show the tensor\n",
        "z = x.view(1,10)\n",
        "z, z.shape"
      ]
    },
    {
      "cell_type": "code",
      "execution_count": 31,
      "metadata": {
        "colab": {
          "base_uri": "https://localhost:8080/"
        },
        "id": "TpEBDQv8WQQw",
        "outputId": "fba9d747-14c1-402f-f364-9417fd47289d"
      },
      "outputs": [
        {
          "data": {
            "text/plain": [
              "(tensor([[ 0, 90,  2,  3,  4,  5,  6,  7,  8,  9]]),\n",
              " tensor([ 0, 90,  2,  3,  4,  5,  6,  7,  8,  9]))"
            ]
          },
          "execution_count": 31,
          "metadata": {},
          "output_type": "execute_result"
        }
      ],
      "source": [
        "#chane the value to check if they both share the same memory\n",
        "z[:,1] = 90\n",
        "z,x"
      ]
    },
    {
      "cell_type": "code",
      "execution_count": 37,
      "metadata": {
        "colab": {
          "base_uri": "https://localhost:8080/"
        },
        "id": "x6BFLwO5W1wP",
        "outputId": "16f07d80-9259-4024-95ae-641fe3eae474"
      },
      "outputs": [
        {
          "data": {
            "text/plain": [
              "tensor([[ 0, 90,  2,  3,  4,  5,  6,  7,  8,  9],\n",
              "        [ 0, 90,  2,  3,  4,  5,  6,  7,  8,  9],\n",
              "        [ 0, 90,  2,  3,  4,  5,  6,  7,  8,  9],\n",
              "        [ 0, 90,  2,  3,  4,  5,  6,  7,  8,  9],\n",
              "        [ 0, 90,  2,  3,  4,  5,  6,  7,  8,  9],\n",
              "        [ 0, 90,  2,  3,  4,  5,  6,  7,  8,  9],\n",
              "        [ 0, 90,  2,  3,  4,  5,  6,  7,  8,  9],\n",
              "        [ 0, 90,  2,  3,  4,  5,  6,  7,  8,  9]])"
            ]
          },
          "execution_count": 37,
          "metadata": {},
          "output_type": "execute_result"
        }
      ],
      "source": [
        "#stack the tensors\n",
        "stack_tensors = torch.stack([x,x,x,x,x,x,x,x],dim=0)\n",
        "stack_tensors"
      ]
    },
    {
      "cell_type": "code",
      "execution_count": 38,
      "metadata": {
        "colab": {
          "base_uri": "https://localhost:8080/"
        },
        "id": "VqDRfSTufbXJ",
        "outputId": "eac76f7c-bddf-4915-d3b0-f0b61205c1c3"
      },
      "outputs": [
        {
          "data": {
            "text/plain": [
              "torch.Size([8, 10])"
            ]
          },
          "execution_count": 38,
          "metadata": {},
          "output_type": "execute_result"
        }
      ],
      "source": [
        "stack_tensors.shape"
      ]
    },
    {
      "cell_type": "code",
      "execution_count": 47,
      "metadata": {
        "colab": {
          "base_uri": "https://localhost:8080/"
        },
        "id": "Z0DzuGZxgADh",
        "outputId": "be1481e9-767b-4356-e4eb-02cc36697069"
      },
      "outputs": [
        {
          "name": "stdout",
          "output_type": "stream",
          "text": [
            "z = tensor([[ 0, 90,  2,  3,  4,  5,  6,  7,  8,  9]])\n",
            " z.shape = torch.Size([1, 10])\n",
            "z.squeeze() = tensor([ 0, 90,  2,  3,  4,  5,  6,  7,  8,  9])\n",
            " z.squeeze().shape = torch.Size([10])\n",
            "z.unsqueeze(dim=0) = tensor([[[ 0, 90,  2,  3,  4,  5,  6,  7,  8,  9]]])\n",
            " z.unsqueeze(dim=0).shape = torch.Size([1, 1, 10])\n"
          ]
        }
      ],
      "source": [
        "print(f\"z = {z}\\n z.shape = {z.shape}\")\n",
        "print(f\"z.squeeze() = {z.squeeze()}\\n z.squeeze().shape = {z.squeeze().shape}\")\n",
        "print(f\"z.unsqueeze(dim=0) = {z.unsqueeze(dim=0)}\\n z.unsqueeze(dim=0).shape = {z.unsqueeze(dim=0).shape}\")"
      ]
    },
    {
      "cell_type": "markdown",
      "metadata": {
        "id": "X2VvaPTVh3ld"
      },
      "source": [
        "##INDEXING"
      ]
    },
    {
      "cell_type": "code",
      "execution_count": 48,
      "metadata": {
        "id": "PJ7BeH4Dh4u0"
      },
      "outputs": [],
      "source": [
        "import torch"
      ]
    },
    {
      "cell_type": "code",
      "execution_count": 49,
      "metadata": {
        "colab": {
          "base_uri": "https://localhost:8080/"
        },
        "id": "DwNMQIU7h6DI",
        "outputId": "6f8a7f37-0424-48de-f823-29202c9ec171"
      },
      "outputs": [
        {
          "data": {
            "text/plain": [
              "(tensor([[[1, 2, 3],\n",
              "          [4, 5, 6],\n",
              "          [7, 8, 9]]]),\n",
              " torch.Size([1, 3, 3]))"
            ]
          },
          "execution_count": 49,
          "metadata": {},
          "output_type": "execute_result"
        }
      ],
      "source": [
        "x = torch.arange(1,10).reshape(1,3,3)\n",
        "x, x.shape"
      ]
    },
    {
      "cell_type": "code",
      "execution_count": 50,
      "metadata": {
        "colab": {
          "base_uri": "https://localhost:8080/"
        },
        "id": "Pw9NPt1OiCau",
        "outputId": "905c7b45-ca21-4025-d6e4-6fa72fd5fc3c"
      },
      "outputs": [
        {
          "data": {
            "text/plain": [
              "tensor([[1, 2, 3],\n",
              "        [4, 5, 6],\n",
              "        [7, 8, 9]])"
            ]
          },
          "execution_count": 50,
          "metadata": {},
          "output_type": "execute_result"
        }
      ],
      "source": [
        "x[0]"
      ]
    },
    {
      "cell_type": "code",
      "execution_count": 51,
      "metadata": {
        "colab": {
          "base_uri": "https://localhost:8080/"
        },
        "id": "-vXSyiGeiJqE",
        "outputId": "fd5fa696-93bf-4b02-bac2-4f8b632275f0"
      },
      "outputs": [
        {
          "data": {
            "text/plain": [
              "tensor([1, 2, 3])"
            ]
          },
          "execution_count": 51,
          "metadata": {},
          "output_type": "execute_result"
        }
      ],
      "source": [
        "x[0][0]"
      ]
    },
    {
      "cell_type": "code",
      "execution_count": 52,
      "metadata": {
        "colab": {
          "base_uri": "https://localhost:8080/"
        },
        "id": "NrFechO5iLWo",
        "outputId": "da383b7f-d36f-4a61-b327-de087c4994f9"
      },
      "outputs": [
        {
          "data": {
            "text/plain": [
              "tensor(4)"
            ]
          },
          "execution_count": 52,
          "metadata": {},
          "output_type": "execute_result"
        }
      ],
      "source": [
        "x[0][1][0]"
      ]
    },
    {
      "cell_type": "code",
      "execution_count": 53,
      "metadata": {
        "colab": {
          "base_uri": "https://localhost:8080/"
        },
        "id": "k_X32Rg9iNMP",
        "outputId": "f0acf79a-329a-415a-f1b4-c356c06d1a7b"
      },
      "outputs": [
        {
          "data": {
            "text/plain": [
              "tensor([[[  1,   2,   3],\n",
              "         [999,   5,   6],\n",
              "         [  7,   8,   9]]])"
            ]
          },
          "execution_count": 53,
          "metadata": {},
          "output_type": "execute_result"
        }
      ],
      "source": [
        "x[0][1][0] = 999\n",
        "x"
      ]
    },
    {
      "cell_type": "markdown",
      "metadata": {
        "id": "091UOW2Ki_uP"
      },
      "source": [
        "##REPRODUCIBILITY (trying to take out random out of random)\n",
        "\n",
        "Every time you use `torch.rand` it will gives you a different random numbers. But what if you want the random numbers to be less random everytime you run your code.\n",
        "\n",
        "To reduce the randomness in neural networks and PyTorch comes with a concept of a **random seed**\n",
        "\n",
        "Essiantially what random seed does is flavour the randomness"
      ]
    },
    {
      "cell_type": "code",
      "execution_count": 55,
      "metadata": {
        "colab": {
          "base_uri": "https://localhost:8080/"
        },
        "id": "clQNa0gIjB1J",
        "outputId": "eeb88fcb-1635-41b7-c196-417256c58c37"
      },
      "outputs": [
        {
          "data": {
            "text/plain": [
              "tensor([[0.3431, 0.5269, 0.7820, 0.7685],\n",
              "        [0.5475, 0.6939, 0.8661, 0.2073],\n",
              "        [0.6936, 0.5828, 0.7984, 0.5004]])"
            ]
          },
          "execution_count": 55,
          "metadata": {},
          "output_type": "execute_result"
        }
      ],
      "source": [
        "torch.rand(3,4)"
      ]
    },
    {
      "cell_type": "code",
      "execution_count": 4,
      "metadata": {
        "colab": {
          "base_uri": "https://localhost:8080/"
        },
        "id": "1lOmSqI9lKjN",
        "outputId": "2cb870fd-fc66-463d-b30d-9de10585ad72"
      },
      "outputs": [
        {
          "name": "stdout",
          "output_type": "stream",
          "text": [
            "tensor([[0.8823, 0.9150, 0.3829, 0.9593],\n",
            "        [0.3904, 0.6009, 0.2566, 0.7936],\n",
            "        [0.9408, 0.1332, 0.9346, 0.5936]])\n",
            "tensor([[0.8823, 0.9150, 0.3829, 0.9593],\n",
            "        [0.3904, 0.6009, 0.2566, 0.7936],\n",
            "        [0.9408, 0.1332, 0.9346, 0.5936]])\n",
            "tensor([[True, True, True, True],\n",
            "        [True, True, True, True],\n",
            "        [True, True, True, True]])\n"
          ]
        }
      ],
      "source": [
        "# lets make some random but reproducible tensors\n",
        "RANDOM_SEED = 42 #42 is the most common one\n",
        "\n",
        "torch.manual_seed(RANDOM_SEED)\n",
        "random_tensor_a = torch.rand(3,4)\n",
        "\n",
        "torch.manual_seed(RANDOM_SEED)\n",
        "random_tensor_b = torch.rand(3,4)\n",
        "\n",
        "print(random_tensor_a)\n",
        "print(random_tensor_b)\n",
        "print(random_tensor_b == random_tensor_a)"
      ]
    },
    {
      "cell_type": "code",
      "execution_count": 58,
      "metadata": {
        "colab": {
          "base_uri": "https://localhost:8080/"
        },
        "id": "g_J3oadUlt7F",
        "outputId": "0c62f392-ac76-4465-bf44-8d78ee868bfb"
      },
      "outputs": [
        {
          "name": "stdout",
          "output_type": "stream",
          "text": [
            "tensor([[True, True, True, True],\n",
            "        [True, True, True, True],\n",
            "        [True, True, True, True]])\n"
          ]
        }
      ],
      "source": [
        "torch.manual_seed(RANDOM_SEED)\n",
        "random_tensor_c = torch.rand(3,4)\n",
        "\n",
        "print(random_tensor_c==random_tensor_a)"
      ]
    },
    {
      "cell_type": "markdown",
      "metadata": {},
      "source": [
        "Check for GPU access with PyTorch"
      ]
    },
    {
      "cell_type": "code",
      "execution_count": 1,
      "metadata": {
        "id": "zG30KmgMmFMK"
      },
      "outputs": [
        {
          "data": {
            "text/plain": [
              "True"
            ]
          },
          "execution_count": 1,
          "metadata": {},
          "output_type": "execute_result"
        }
      ],
      "source": [
        "import torch\n",
        "\n",
        "torch.cuda.is_available()"
      ]
    },
    {
      "cell_type": "code",
      "execution_count": 2,
      "metadata": {},
      "outputs": [
        {
          "name": "stdout",
          "output_type": "stream",
          "text": [
            "Mon Sep  1 20:33:35 2025       \n",
            "+-----------------------------------------------------------------------------------------+\n",
            "| NVIDIA-SMI 581.15                 Driver Version: 581.15         CUDA Version: 13.0     |\n",
            "+-----------------------------------------+------------------------+----------------------+\n",
            "| GPU  Name                  Driver-Model | Bus-Id          Disp.A | Volatile Uncorr. ECC |\n",
            "| Fan  Temp   Perf          Pwr:Usage/Cap |           Memory-Usage | GPU-Util  Compute M. |\n",
            "|                                         |                        |               MIG M. |\n",
            "|=========================================+========================+======================|\n",
            "|   0  NVIDIA GeForce GTX 1650 Ti   WDDM  |   00000000:01:00.0 Off |                  N/A |\n",
            "| N/A   43C    P3             12W /   30W |       0MiB /   4096MiB |      0%      Default |\n",
            "|                                         |                        |                  N/A |\n",
            "+-----------------------------------------+------------------------+----------------------+\n",
            "\n",
            "+-----------------------------------------------------------------------------------------+\n",
            "| Processes:                                                                              |\n",
            "|  GPU   GI   CI              PID   Type   Process name                        GPU Memory |\n",
            "|        ID   ID                                                               Usage      |\n",
            "|=========================================================================================|\n",
            "|  No running processes found                                                             |\n",
            "+-----------------------------------------------------------------------------------------+\n"
          ]
        }
      ],
      "source": [
        "!nvidia-smi"
      ]
    },
    {
      "cell_type": "code",
      "execution_count": 5,
      "metadata": {},
      "outputs": [
        {
          "data": {
            "text/plain": [
              "'cuda'"
            ]
          },
          "execution_count": 5,
          "metadata": {},
          "output_type": "execute_result"
        }
      ],
      "source": [
        "#Device agnostic code\n",
        "\n",
        "device = \"cuda\" if torch.cuda.is_available() else \"cpu\"\n",
        "device"
      ]
    },
    {
      "cell_type": "code",
      "execution_count": null,
      "metadata": {},
      "outputs": [
        {
          "name": "stderr",
          "output_type": "stream",
          "text": [
            "usage: ipykernel_launcher.py [-h]\n",
            "ipykernel_launcher.py: error: unrecognized arguments: --f=c:\\Users\\umarr\\AppData\\Roaming\\jupyter\\runtime\\kernel-v3c647eb9b4d8b9961073e83f90ce516e4c8b31257.json\n"
          ]
        },
        {
          "ename": "SystemExit",
          "evalue": "2",
          "output_type": "error",
          "traceback": [
            "An exception has occurred, use %tb to see the full traceback.\n",
            "\u001b[31mSystemExit\u001b[39m\u001b[31m:\u001b[39m 2\n"
          ]
        }
      ],
      "source": [
        "#Best Practices for Device agnostic code\n",
        "import argparse\n",
        "import torch\n",
        "\n",
        "parser = argparse.ArgumentParser(description='PyTorch Example')\n",
        "parser.add_argument('--disable-cuda', action='store_true',\n",
        "                    help='Disable CUDA')\n",
        "args = parser.parse_args()\n",
        "args.device = None\n",
        "if not args.disable_cuda and torch.cuda.is_available():\n",
        "    args.device = torch.device('cuda')\n",
        "else:\n",
        "    args.device = torch.device('cpu')"
      ]
    },
    {
      "cell_type": "code",
      "execution_count": null,
      "metadata": {},
      "outputs": [
        {
          "data": {
            "text/plain": [
              "1"
            ]
          },
          "execution_count": 6,
          "metadata": {},
          "output_type": "execute_result"
        }
      ],
      "source": [
        "# Count the number of GPUs\n",
        "\n",
        "torch.cuda.device_count()"
      ]
    },
    {
      "cell_type": "markdown",
      "metadata": {},
      "source": [
        "Puting tensors and models on the GPU\n",
        "\n",
        "The reason we want tensors/models on the GPU because using a GPU will result in faster calculations."
      ]
    },
    {
      "cell_type": "code",
      "execution_count": 13,
      "metadata": {},
      "outputs": [
        {
          "data": {
            "text/plain": [
              "(tensor([1, 2, 3]), device(type='cpu'))"
            ]
          },
          "execution_count": 13,
          "metadata": {},
          "output_type": "execute_result"
        }
      ],
      "source": [
        "#creating a tensor by default using cpu\n",
        "\n",
        "tensor = torch.tensor([1,2,3])\n",
        "\n",
        "tensor, tensor.device"
      ]
    },
    {
      "cell_type": "code",
      "execution_count": 14,
      "metadata": {},
      "outputs": [
        {
          "data": {
            "text/plain": [
              "(tensor([1, 2, 3], device='cuda:0'), device(type='cuda', index=0))"
            ]
          },
          "execution_count": 14,
          "metadata": {},
          "output_type": "execute_result"
        }
      ],
      "source": [
        "#Move tensors to GPU if available\n",
        "\n",
        "tensor_with_gpu = tensor.to(device)\n",
        "\n",
        "tensor_with_gpu, tensor_with_gpu.device"
      ]
    },
    {
      "cell_type": "code",
      "execution_count": 17,
      "metadata": {},
      "outputs": [
        {
          "ename": "TypeError",
          "evalue": "can't convert cuda:0 device type tensor to numpy. Use Tensor.cpu() to copy the tensor to host memory first.",
          "output_type": "error",
          "traceback": [
            "\u001b[31m---------------------------------------------------------------------------\u001b[39m",
            "\u001b[31mTypeError\u001b[39m                                 Traceback (most recent call last)",
            "\u001b[36mCell\u001b[39m\u001b[36m \u001b[39m\u001b[32mIn[17]\u001b[39m\u001b[32m, line 1\u001b[39m\n\u001b[32m----> \u001b[39m\u001b[32m1\u001b[39m \u001b[43mtensor_with_gpu\u001b[49m\u001b[43m.\u001b[49m\u001b[43mnumpy\u001b[49m\u001b[43m(\u001b[49m\u001b[43m)\u001b[49m\n",
            "\u001b[31mTypeError\u001b[39m: can't convert cuda:0 device type tensor to numpy. Use Tensor.cpu() to copy the tensor to host memory first."
          ]
        }
      ],
      "source": [
        "tensor_with_gpu.numpy()"
      ]
    },
    {
      "cell_type": "code",
      "execution_count": null,
      "metadata": {},
      "outputs": [
        {
          "data": {
            "text/plain": [
              "(tensor([1, 2, 3]), device(type='cpu'))"
            ]
          },
          "execution_count": 16,
          "metadata": {},
          "output_type": "execute_result"
        }
      ],
      "source": [
        "#Moving tensor back to CPU (if tensors on GPU, can't transfer it to numpy as numpy only uses CPU)\n",
        "\n",
        "tensor_with_cpu = tensor_with_gpu.to('cpu')\n",
        "tensor_with_cpu, tensor_with_cpu.device"
      ]
    },
    {
      "cell_type": "code",
      "execution_count": 18,
      "metadata": {},
      "outputs": [
        {
          "data": {
            "text/plain": [
              "array([1, 2, 3])"
            ]
          },
          "execution_count": 18,
          "metadata": {},
          "output_type": "execute_result"
        }
      ],
      "source": [
        "tensor_with_cpu.numpy()"
      ]
    }
  ],
  "metadata": {
    "accelerator": "GPU",
    "colab": {
      "gpuType": "T4",
      "provenance": []
    },
    "kernelspec": {
      "display_name": "Python 3",
      "name": "python3"
    },
    "language_info": {
      "codemirror_mode": {
        "name": "ipython",
        "version": 3
      },
      "file_extension": ".py",
      "mimetype": "text/x-python",
      "name": "python",
      "nbconvert_exporter": "python",
      "pygments_lexer": "ipython3",
      "version": "3.13.7"
    }
  },
  "nbformat": 4,
  "nbformat_minor": 0
}
