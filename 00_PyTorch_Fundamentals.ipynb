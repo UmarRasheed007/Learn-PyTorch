{
  "nbformat": 4,
  "nbformat_minor": 0,
  "metadata": {
    "colab": {
      "provenance": [],
      "gpuType": "T4"
    },
    "kernelspec": {
      "name": "python3",
      "display_name": "Python 3"
    },
    "language_info": {
      "name": "python"
    },
    "accelerator": "GPU"
  },
  "cells": [
    {
      "cell_type": "code",
      "execution_count": 1,
      "metadata": {
        "colab": {
          "base_uri": "https://localhost:8080/"
        },
        "id": "ngRj85kBUM-o",
        "outputId": "4aef4291-0f46-4965-cbed-e3bc36dbdf3e"
      },
      "outputs": [
        {
          "output_type": "stream",
          "name": "stdout",
          "text": [
            "2.8.0+cu126\n"
          ]
        }
      ],
      "source": [
        "import torch\n",
        "import pandas as pd\n",
        "import numpy as np\n",
        "import matplotlib.pyplot as plt\n",
        "\n",
        "print(torch.__version__)"
      ]
    },
    {
      "cell_type": "markdown",
      "source": [
        "##Introduction to Tensor\n",
        "\n",
        "###Tensor are the way to represent data (multi-dimensional) numeric way"
      ],
      "metadata": {
        "id": "EDMAUU08XsKD"
      }
    },
    {
      "cell_type": "code",
      "source": [
        "## Creating tensor\n",
        "\n",
        "scalar = torch.tensor(7) ##A torch.Tensor is a multi-dimensional matrix containing elements of a single data type.\n",
        "scalar"
      ],
      "metadata": {
        "colab": {
          "base_uri": "https://localhost:8080/"
        },
        "id": "nx6fYp9oXuiC",
        "outputId": "ce8feaa3-64ac-4fe7-a594-a28f573b349e"
      },
      "execution_count": null,
      "outputs": [
        {
          "output_type": "execute_result",
          "data": {
            "text/plain": [
              "tensor(7)"
            ]
          },
          "metadata": {},
          "execution_count": 3
        }
      ]
    },
    {
      "cell_type": "code",
      "source": [
        "#check the dimensions (ndim number of dimensions)\n",
        "scalar.ndim"
      ],
      "metadata": {
        "colab": {
          "base_uri": "https://localhost:8080/"
        },
        "id": "TDMWoMn9XyHu",
        "outputId": "0e38d47d-ee6b-41a7-ca35-24dd9ab358d5"
      },
      "execution_count": null,
      "outputs": [
        {
          "output_type": "execute_result",
          "data": {
            "text/plain": [
              "0"
            ]
          },
          "metadata": {},
          "execution_count": 4
        }
      ]
    },
    {
      "cell_type": "code",
      "source": [
        "#Get tensor back as an python int\n",
        "scalar.item()"
      ],
      "metadata": {
        "colab": {
          "base_uri": "https://localhost:8080/"
        },
        "id": "_gOLC3J7ZI0L",
        "outputId": "b9b0e71b-04b3-4d95-f645-9901a8c215d9"
      },
      "execution_count": null,
      "outputs": [
        {
          "output_type": "execute_result",
          "data": {
            "text/plain": [
              "7"
            ]
          },
          "metadata": {},
          "execution_count": 21
        }
      ]
    },
    {
      "cell_type": "code",
      "source": [
        "#Vector\n",
        "vector = torch.tensor([7,7])\n",
        "vector"
      ],
      "metadata": {
        "colab": {
          "base_uri": "https://localhost:8080/"
        },
        "id": "GSNUleRkZj9k",
        "outputId": "5502a283-5e4b-4600-c205-699f31926e9c"
      },
      "execution_count": null,
      "outputs": [
        {
          "output_type": "execute_result",
          "data": {
            "text/plain": [
              "tensor([7, 7])"
            ]
          },
          "metadata": {},
          "execution_count": 22
        }
      ]
    },
    {
      "cell_type": "code",
      "source": [
        "#MATRIX\n",
        "MATRIX = torch.tensor([[7,8],[9,10]])\n",
        "MATRIX"
      ],
      "metadata": {
        "colab": {
          "base_uri": "https://localhost:8080/"
        },
        "id": "gE1fO0BSZ0SA",
        "outputId": "6efdf240-b65d-4d86-83b0-e20abdb1a50d"
      },
      "execution_count": null,
      "outputs": [
        {
          "output_type": "execute_result",
          "data": {
            "text/plain": [
              "tensor([[ 7,  8],\n",
              "        [ 9, 10]])"
            ]
          },
          "metadata": {},
          "execution_count": 26
        }
      ]
    },
    {
      "cell_type": "code",
      "source": [
        "MATRIX[1]"
      ],
      "metadata": {
        "colab": {
          "base_uri": "https://localhost:8080/"
        },
        "id": "yyq2AUa7bKZT",
        "outputId": "62523038-9732-44a1-a36b-9b38f53971be"
      },
      "execution_count": null,
      "outputs": [
        {
          "output_type": "execute_result",
          "data": {
            "text/plain": [
              "tensor([ 9, 10])"
            ]
          },
          "metadata": {},
          "execution_count": 32
        }
      ]
    },
    {
      "cell_type": "code",
      "source": [
        "MATRIX.shape"
      ],
      "metadata": {
        "colab": {
          "base_uri": "https://localhost:8080/"
        },
        "id": "5xvL9ESdbYLE",
        "outputId": "2dc48a9f-8443-4cbe-edcd-51b5b9a65de0"
      },
      "execution_count": null,
      "outputs": [
        {
          "output_type": "execute_result",
          "data": {
            "text/plain": [
              "torch.Size([2, 2])"
            ]
          },
          "metadata": {},
          "execution_count": 34
        }
      ]
    },
    {
      "cell_type": "code",
      "source": [
        "#Tensor\n",
        "TENSOR = torch.tensor([[[1,2],[3,6],[2,4]]])\n",
        "TENSOR"
      ],
      "metadata": {
        "colab": {
          "base_uri": "https://localhost:8080/"
        },
        "id": "Fs_Jo9CrbkBS",
        "outputId": "84d83428-e4d8-44f1-ec4d-40a04f43bc93"
      },
      "execution_count": null,
      "outputs": [
        {
          "output_type": "execute_result",
          "data": {
            "text/plain": [
              "tensor([[[1, 2],\n",
              "         [3, 6],\n",
              "         [2, 4]]])"
            ]
          },
          "metadata": {},
          "execution_count": 38
        }
      ]
    },
    {
      "cell_type": "code",
      "source": [
        "TENSOR.shape"
      ],
      "metadata": {
        "colab": {
          "base_uri": "https://localhost:8080/"
        },
        "id": "VCzT2WFDbxQw",
        "outputId": "7c2caffb-cfdc-4de6-a40a-c2b694b27566"
      },
      "execution_count": null,
      "outputs": [
        {
          "output_type": "execute_result",
          "data": {
            "text/plain": [
              "torch.Size([1, 3, 2])"
            ]
          },
          "metadata": {},
          "execution_count": 40
        }
      ]
    },
    {
      "cell_type": "markdown",
      "source": [
        "#RANDOM TENSORS\n",
        "\n",
        "Random tensors are very important becasue the way most of the neural netorks learn is that they start starts with full of random tensors and then adjust it to better represent the data\n",
        "\n",
        "`Start with random numbers => look at the data => update the random numbers => look at data => update the random numbers`\n"
      ],
      "metadata": {
        "id": "35LmSijAPKX7"
      }
    },
    {
      "cell_type": "code",
      "source": [
        "RANDOM_TENSORS = torch.rand(4)\n",
        "RANDOM_TENSORS"
      ],
      "metadata": {
        "colab": {
          "base_uri": "https://localhost:8080/"
        },
        "id": "BUh3IyjzPNes",
        "outputId": "75da26b2-9888-4a38-dc1b-f980c4589c6d"
      },
      "execution_count": null,
      "outputs": [
        {
          "output_type": "execute_result",
          "data": {
            "text/plain": [
              "tensor([0.4925, 0.7927, 0.5219, 0.6317])"
            ]
          },
          "metadata": {},
          "execution_count": 5
        }
      ]
    },
    {
      "cell_type": "code",
      "source": [
        "RANDOM_TENSORS = torch.rand(3,4)\n",
        "RANDOM_TENSORS"
      ],
      "metadata": {
        "colab": {
          "base_uri": "https://localhost:8080/"
        },
        "id": "prHz5NETQ3aO",
        "outputId": "04dcf64d-cfce-4fd0-a6ea-c40fecb8bf34"
      },
      "execution_count": null,
      "outputs": [
        {
          "output_type": "execute_result",
          "data": {
            "text/plain": [
              "tensor([[0.9840, 0.7028, 0.2537, 0.1702],\n",
              "        [0.6098, 0.9079, 0.6550, 0.7215],\n",
              "        [0.9948, 0.2331, 0.0337, 0.6374]])"
            ]
          },
          "metadata": {},
          "execution_count": 8
        }
      ]
    },
    {
      "cell_type": "code",
      "source": [
        "#Create a random tensor with similar shape to an image tensor\n",
        "random_image_size_tensor = torch.rand(size=(224,224,3))   #height,width,number of color channels (R,G,B)\n",
        "random_image_size_tensor"
      ],
      "metadata": {
        "colab": {
          "base_uri": "https://localhost:8080/"
        },
        "id": "DFRbL3ghROGB",
        "outputId": "53003506-8633-4a9f-b52b-ed3efba6dc3d"
      },
      "execution_count": null,
      "outputs": [
        {
          "output_type": "execute_result",
          "data": {
            "text/plain": [
              "tensor([[[0.6023, 0.4794, 0.4304],\n",
              "         [0.2472, 0.3556, 0.5148],\n",
              "         [0.5863, 0.0559, 0.9286],\n",
              "         ...,\n",
              "         [0.9101, 0.8910, 0.0240],\n",
              "         [0.6824, 0.8387, 0.2491],\n",
              "         [0.7763, 0.9774, 0.8969]],\n",
              "\n",
              "        [[0.6405, 0.5613, 0.5875],\n",
              "         [0.5769, 0.2474, 0.7903],\n",
              "         [0.2913, 0.3482, 0.8758],\n",
              "         ...,\n",
              "         [0.1273, 0.7600, 0.0017],\n",
              "         [0.0472, 0.9493, 0.4571],\n",
              "         [0.1142, 0.3723, 0.3875]],\n",
              "\n",
              "        [[0.5191, 0.6965, 0.8263],\n",
              "         [0.7970, 0.0814, 0.5826],\n",
              "         [0.2526, 0.9183, 0.6615],\n",
              "         ...,\n",
              "         [0.1091, 0.9361, 0.9021],\n",
              "         [0.7885, 0.9680, 0.2438],\n",
              "         [0.3009, 0.4315, 0.1565]],\n",
              "\n",
              "        ...,\n",
              "\n",
              "        [[0.0996, 0.4746, 0.5344],\n",
              "         [0.0409, 0.8842, 0.7860],\n",
              "         [0.8876, 0.9518, 0.2729],\n",
              "         ...,\n",
              "         [0.6511, 0.0609, 0.2393],\n",
              "         [0.5395, 0.5381, 0.8223],\n",
              "         [0.6435, 0.7541, 0.5897]],\n",
              "\n",
              "        [[0.5844, 0.0163, 0.5026],\n",
              "         [0.1350, 0.8911, 0.1788],\n",
              "         [0.1241, 0.8618, 0.6324],\n",
              "         ...,\n",
              "         [0.1009, 0.5950, 0.7371],\n",
              "         [0.1833, 0.6163, 0.7755],\n",
              "         [0.5221, 0.6853, 0.2996]],\n",
              "\n",
              "        [[0.6279, 0.4551, 0.5536],\n",
              "         [0.6147, 0.1853, 0.5930],\n",
              "         [0.3758, 0.8371, 0.8191],\n",
              "         ...,\n",
              "         [0.9483, 0.4312, 0.0856],\n",
              "         [0.6334, 0.7921, 0.6336],\n",
              "         [0.2059, 0.6428, 0.9639]]])"
            ]
          },
          "metadata": {},
          "execution_count": 10
        }
      ]
    },
    {
      "cell_type": "markdown",
      "source": [
        "###Zeros and Ones Tensor"
      ],
      "metadata": {
        "id": "b1CgKoUbGT9G"
      }
    },
    {
      "cell_type": "code",
      "source": [
        "#Creating a tensor with only zeros\n",
        "zeros = torch.zeros(4,2,3)\n",
        "zeros"
      ],
      "metadata": {
        "colab": {
          "base_uri": "https://localhost:8080/"
        },
        "id": "1gO5AAQqGc-X",
        "outputId": "d213b785-0cd6-416f-898f-20e1231a6e52"
      },
      "execution_count": 6,
      "outputs": [
        {
          "output_type": "execute_result",
          "data": {
            "text/plain": [
              "tensor([[[0., 0., 0.],\n",
              "         [0., 0., 0.]],\n",
              "\n",
              "        [[0., 0., 0.],\n",
              "         [0., 0., 0.]],\n",
              "\n",
              "        [[0., 0., 0.],\n",
              "         [0., 0., 0.]],\n",
              "\n",
              "        [[0., 0., 0.],\n",
              "         [0., 0., 0.]]])"
            ]
          },
          "metadata": {},
          "execution_count": 6
        }
      ]
    },
    {
      "cell_type": "code",
      "source": [
        "#Creating a tensor witl all ones\n",
        "ones = torch.ones(size=(4,2,3))\n",
        "ones"
      ],
      "metadata": {
        "colab": {
          "base_uri": "https://localhost:8080/"
        },
        "id": "8mxHjojpGfh3",
        "outputId": "d07df4ea-07e9-412e-a559-f70b1f25da76"
      },
      "execution_count": 8,
      "outputs": [
        {
          "output_type": "execute_result",
          "data": {
            "text/plain": [
              "tensor([[[1., 1., 1.],\n",
              "         [1., 1., 1.]],\n",
              "\n",
              "        [[1., 1., 1.],\n",
              "         [1., 1., 1.]],\n",
              "\n",
              "        [[1., 1., 1.],\n",
              "         [1., 1., 1.]],\n",
              "\n",
              "        [[1., 1., 1.],\n",
              "         [1., 1., 1.]]])"
            ]
          },
          "metadata": {},
          "execution_count": 8
        }
      ]
    },
    {
      "cell_type": "code",
      "source": [
        "ones.dtype"
      ],
      "metadata": {
        "colab": {
          "base_uri": "https://localhost:8080/"
        },
        "id": "UEUfpYStHHb6",
        "outputId": "9066fe10-4933-497b-8ba3-220a6d3ae091"
      },
      "execution_count": 9,
      "outputs": [
        {
          "output_type": "execute_result",
          "data": {
            "text/plain": [
              "torch.float32"
            ]
          },
          "metadata": {},
          "execution_count": 9
        }
      ]
    },
    {
      "cell_type": "code",
      "source": [
        "zeros.dtype"
      ],
      "metadata": {
        "colab": {
          "base_uri": "https://localhost:8080/"
        },
        "id": "Yg5xUKcQHLlq",
        "outputId": "5e3a507b-b3f2-4558-fa49-90b62bc2f7b9"
      },
      "execution_count": 10,
      "outputs": [
        {
          "output_type": "execute_result",
          "data": {
            "text/plain": [
              "torch.float32"
            ]
          },
          "metadata": {},
          "execution_count": 10
        }
      ]
    },
    {
      "cell_type": "markdown",
      "source": [
        "###Creating a range of tensors and tensors-like"
      ],
      "metadata": {
        "id": "wEBL-Yl6HcAT"
      }
    },
    {
      "cell_type": "code",
      "source": [
        "one_to_ten_four = torch.arange(0,10,4) #first number is the starting point, second number is the ending point, and 3rd number is the number of sequence (in our case multiples of 4)\n",
        "one_to_ten_four"
      ],
      "metadata": {
        "colab": {
          "base_uri": "https://localhost:8080/"
        },
        "id": "ov0UlcQzHjqT",
        "outputId": "862c20aa-14f9-42e1-bb50-7c3c8ff8ebda"
      },
      "execution_count": 20,
      "outputs": [
        {
          "output_type": "execute_result",
          "data": {
            "text/plain": [
              "tensor([0, 4, 8])"
            ]
          },
          "metadata": {},
          "execution_count": 20
        }
      ]
    },
    {
      "cell_type": "code",
      "source": [
        "#Creating tensors-like\n",
        "ten_zeros = torch.zeros_like(input=one_to_ten_four)\n",
        "ten_zeros"
      ],
      "metadata": {
        "colab": {
          "base_uri": "https://localhost:8080/"
        },
        "id": "gDwRNnk7Ht03",
        "outputId": "d1053e87-3722-47a2-f03e-2fdfefe51609"
      },
      "execution_count": 22,
      "outputs": [
        {
          "output_type": "execute_result",
          "data": {
            "text/plain": [
              "tensor([0, 0, 0])"
            ]
          },
          "metadata": {},
          "execution_count": 22
        }
      ]
    },
    {
      "cell_type": "markdown",
      "source": [
        "###Tensors Data types"
      ],
      "metadata": {
        "id": "LBf2knxSJsgw"
      }
    },
    {
      "cell_type": "code",
      "source": [
        "float_32_tensors = torch.tensor([3.0,4.0,5.0],\n",
        "                                dtype=torch.float32, #Data type\n",
        "                                device='cpu', #what device it runs on cpu|gpu(cuda)|tpu etc\n",
        "                                requires_grad=False #whether or not track gradiants with this tensor\n",
        "                                )\n",
        "float_32_tensors"
      ],
      "metadata": {
        "colab": {
          "base_uri": "https://localhost:8080/"
        },
        "id": "fLRa7t6rJvq0",
        "outputId": "9c12fb47-98f6-4c43-c230-1919f59d7eef"
      },
      "execution_count": 3,
      "outputs": [
        {
          "output_type": "execute_result",
          "data": {
            "text/plain": [
              "tensor([3., 4., 5.])"
            ]
          },
          "metadata": {},
          "execution_count": 3
        }
      ]
    },
    {
      "cell_type": "code",
      "source": [
        "float_32_tensors.dtype"
      ],
      "metadata": {
        "colab": {
          "base_uri": "https://localhost:8080/"
        },
        "id": "l2FaA7lFKaAq",
        "outputId": "90febaf6-89c6-4b8c-a9c1-bfea5d000d4b"
      },
      "execution_count": 4,
      "outputs": [
        {
          "output_type": "execute_result",
          "data": {
            "text/plain": [
              "torch.float32"
            ]
          },
          "metadata": {},
          "execution_count": 4
        }
      ]
    },
    {
      "cell_type": "markdown",
      "source": [
        "##Getting information from tensors\n",
        "\n",
        "###Three big problem with the neural networks\n",
        "1. Tensors not right datatype\n",
        "2. Tensors not right shape\n",
        "3. Tensors not on the right device"
      ],
      "metadata": {
        "id": "MM736O-mNJNV"
      }
    },
    {
      "cell_type": "code",
      "source": [
        "#Creating a tensor\n",
        "some_tensor = torch.rand(4,4, device='cuda') #cuda for gpu\n",
        "\n",
        "#Find the details of tensors\n",
        "print(some_tensor)\n",
        "print(f\"Datatype of tensor: {some_tensor.dtype}\")\n",
        "print(f\"Shape of tensor: {some_tensor.shape}\") #shape or size both same\n",
        "print(f\"Device of tensor: {some_tensor.device}\")"
      ],
      "metadata": {
        "colab": {
          "base_uri": "https://localhost:8080/"
        },
        "id": "RvMbKAZ4NLRj",
        "outputId": "98f3b60f-7a10-4a02-c6eb-f35d5e3c5a80"
      },
      "execution_count": 11,
      "outputs": [
        {
          "output_type": "stream",
          "name": "stdout",
          "text": [
            "tensor([[0.3529, 0.3920, 0.0093, 0.7303],\n",
            "        [0.2740, 0.6743, 0.4491, 0.0403],\n",
            "        [0.3154, 0.0848, 0.8246, 0.6166],\n",
            "        [0.8801, 0.7376, 0.6002, 0.8566]], device='cuda:0')\n",
            "Datatype of tensor: torch.float32\n",
            "Shape of tensor: torch.Size([4, 4])\n",
            "Device of tensor: cuda:0\n"
          ]
        }
      ]
    },
    {
      "cell_type": "code",
      "source": [
        "#checking the time\n",
        "%%time\n",
        "some_tensor*some_tensor"
      ],
      "metadata": {
        "colab": {
          "base_uri": "https://localhost:8080/"
        },
        "id": "Ya2D5PSIOjl-",
        "outputId": "70c77b61-7fce-4a78-8d30-6c0a9febe02d"
      },
      "execution_count": 12,
      "outputs": [
        {
          "output_type": "stream",
          "name": "stdout",
          "text": [
            "CPU times: user 0 ns, sys: 661 µs, total: 661 µs\n",
            "Wall time: 452 µs\n"
          ]
        },
        {
          "output_type": "execute_result",
          "data": {
            "text/plain": [
              "tensor([[1.2454e-01, 1.5367e-01, 8.7087e-05, 5.3330e-01],\n",
              "        [7.5079e-02, 4.5462e-01, 2.0167e-01, 1.6270e-03],\n",
              "        [9.9492e-02, 7.1968e-03, 6.8000e-01, 3.8014e-01],\n",
              "        [7.7454e-01, 5.4408e-01, 3.6023e-01, 7.3374e-01]], device='cuda:0')"
            ]
          },
          "metadata": {},
          "execution_count": 12
        }
      ]
    },
    {
      "cell_type": "code",
      "source": [
        "%%time\n",
        "torch.matmul(some_tensor,some_tensor)"
      ],
      "metadata": {
        "colab": {
          "base_uri": "https://localhost:8080/"
        },
        "id": "sgXFyy4hQi0w",
        "outputId": "2c64f5a1-58fe-4fce-bbbe-d54670bd9444"
      },
      "execution_count": 13,
      "outputs": [
        {
          "output_type": "stream",
          "name": "stdout",
          "text": [
            "CPU times: user 23.5 ms, sys: 6.88 ms, total: 30.4 ms\n",
            "Wall time: 123 ms\n"
          ]
        },
        {
          "output_type": "execute_result",
          "data": {
            "text/plain": [
              "tensor([[0.8776, 0.9421, 0.6253, 0.9048],\n",
              "        [0.4586, 0.6299, 0.6999, 0.5387],\n",
              "        [0.9373, 0.7056, 1.0911, 1.2703],\n",
              "        [1.4559, 1.5251, 1.3485, 1.7762]], device='cuda:0')"
            ]
          },
          "metadata": {},
          "execution_count": 13
        }
      ]
    },
    {
      "cell_type": "markdown",
      "source": [
        "###Reshaping, stacking, squeezing, and unsqueezing tensors\n",
        "* Reshaping - reshape an input tensor to required shape\n",
        "* View - return a view of an input tensor\n",
        "* Stacking - combine multiple tensors in a stack (vstack - vertical or hstack - horizontal)\n",
        "* Squeezing - removes all `1` dimensions from a tensor\n",
        "* Unsqueezing - add a `1` dimension to a tensor\n",
        "* Permute - Return a view with dimensions permuted (swaped) in a certain way"
      ],
      "metadata": {
        "id": "_BpXnVRXTZ0O"
      }
    },
    {
      "cell_type": "code",
      "source": [
        "#create a tensor\n",
        "x = torch.arange(0,10,1)\n",
        "x, x.shape"
      ],
      "metadata": {
        "colab": {
          "base_uri": "https://localhost:8080/"
        },
        "id": "vE2d6YBaUwZr",
        "outputId": "8ce60e9b-d3ff-4024-8f8b-5075b89aa4bf"
      },
      "execution_count": 14,
      "outputs": [
        {
          "output_type": "execute_result",
          "data": {
            "text/plain": [
              "(tensor([0, 1, 2, 3, 4, 5, 6, 7, 8, 9]), torch.Size([10]))"
            ]
          },
          "metadata": {},
          "execution_count": 14
        }
      ]
    },
    {
      "cell_type": "code",
      "source": [
        "#adding an additional dimension\n",
        "x_reshape = x.reshape(1,10)\n",
        "x_reshape, x_reshape.shape"
      ],
      "metadata": {
        "colab": {
          "base_uri": "https://localhost:8080/"
        },
        "id": "Bv5F5dH1VGsD",
        "outputId": "edf29e69-a48f-43e2-babc-5a53764450a1"
      },
      "execution_count": 23,
      "outputs": [
        {
          "output_type": "execute_result",
          "data": {
            "text/plain": [
              "(tensor([[0, 1, 2, 3, 4, 5, 6, 7, 8, 9]]), torch.Size([1, 10]))"
            ]
          },
          "metadata": {},
          "execution_count": 23
        }
      ]
    },
    {
      "cell_type": "code",
      "source": [
        "#changing the view, z&x here shares the same memory just different way to show the tensor\n",
        "z = x.view(1,10)\n",
        "z, z.shape"
      ],
      "metadata": {
        "colab": {
          "base_uri": "https://localhost:8080/"
        },
        "id": "ZEJt2ERwVrAx",
        "outputId": "255d56e5-1da5-4f14-8e01-e9b94960cd67"
      },
      "execution_count": 30,
      "outputs": [
        {
          "output_type": "execute_result",
          "data": {
            "text/plain": [
              "(tensor([[0, 1, 2, 3, 4, 5, 6, 7, 8, 9]]), torch.Size([1, 10]))"
            ]
          },
          "metadata": {},
          "execution_count": 30
        }
      ]
    },
    {
      "cell_type": "code",
      "source": [
        "#chane the value to check if they both share the same memory\n",
        "z[:,1] = 90\n",
        "z,x"
      ],
      "metadata": {
        "colab": {
          "base_uri": "https://localhost:8080/"
        },
        "id": "TpEBDQv8WQQw",
        "outputId": "fba9d747-14c1-402f-f364-9417fd47289d"
      },
      "execution_count": 31,
      "outputs": [
        {
          "output_type": "execute_result",
          "data": {
            "text/plain": [
              "(tensor([[ 0, 90,  2,  3,  4,  5,  6,  7,  8,  9]]),\n",
              " tensor([ 0, 90,  2,  3,  4,  5,  6,  7,  8,  9]))"
            ]
          },
          "metadata": {},
          "execution_count": 31
        }
      ]
    },
    {
      "cell_type": "code",
      "source": [
        "#stack the tensors\n",
        "stack_tensors = torch.stack([x,x,x,x,x,x,x,x],dim=0)\n",
        "stack_tensors"
      ],
      "metadata": {
        "colab": {
          "base_uri": "https://localhost:8080/"
        },
        "id": "x6BFLwO5W1wP",
        "outputId": "16f07d80-9259-4024-95ae-641fe3eae474"
      },
      "execution_count": 37,
      "outputs": [
        {
          "output_type": "execute_result",
          "data": {
            "text/plain": [
              "tensor([[ 0, 90,  2,  3,  4,  5,  6,  7,  8,  9],\n",
              "        [ 0, 90,  2,  3,  4,  5,  6,  7,  8,  9],\n",
              "        [ 0, 90,  2,  3,  4,  5,  6,  7,  8,  9],\n",
              "        [ 0, 90,  2,  3,  4,  5,  6,  7,  8,  9],\n",
              "        [ 0, 90,  2,  3,  4,  5,  6,  7,  8,  9],\n",
              "        [ 0, 90,  2,  3,  4,  5,  6,  7,  8,  9],\n",
              "        [ 0, 90,  2,  3,  4,  5,  6,  7,  8,  9],\n",
              "        [ 0, 90,  2,  3,  4,  5,  6,  7,  8,  9]])"
            ]
          },
          "metadata": {},
          "execution_count": 37
        }
      ]
    },
    {
      "cell_type": "code",
      "source": [
        "stack_tensors.shape"
      ],
      "metadata": {
        "colab": {
          "base_uri": "https://localhost:8080/"
        },
        "id": "VqDRfSTufbXJ",
        "outputId": "eac76f7c-bddf-4915-d3b0-f0b61205c1c3"
      },
      "execution_count": 38,
      "outputs": [
        {
          "output_type": "execute_result",
          "data": {
            "text/plain": [
              "torch.Size([8, 10])"
            ]
          },
          "metadata": {},
          "execution_count": 38
        }
      ]
    },
    {
      "cell_type": "code",
      "source": [
        "print(f\"z = {z}\\n z.shape = {z.shape}\")\n",
        "print(f\"z.squeeze() = {z.squeeze()}\\n z.squeeze().shape = {z.squeeze().shape}\")\n",
        "print(f\"z.unsqueeze(dim=0) = {z.unsqueeze(dim=0)}\\n z.unsqueeze(dim=0).shape = {z.unsqueeze(dim=0).shape}\")"
      ],
      "metadata": {
        "colab": {
          "base_uri": "https://localhost:8080/"
        },
        "id": "Z0DzuGZxgADh",
        "outputId": "be1481e9-767b-4356-e4eb-02cc36697069"
      },
      "execution_count": 47,
      "outputs": [
        {
          "output_type": "stream",
          "name": "stdout",
          "text": [
            "z = tensor([[ 0, 90,  2,  3,  4,  5,  6,  7,  8,  9]])\n",
            " z.shape = torch.Size([1, 10])\n",
            "z.squeeze() = tensor([ 0, 90,  2,  3,  4,  5,  6,  7,  8,  9])\n",
            " z.squeeze().shape = torch.Size([10])\n",
            "z.unsqueeze(dim=0) = tensor([[[ 0, 90,  2,  3,  4,  5,  6,  7,  8,  9]]])\n",
            " z.unsqueeze(dim=0).shape = torch.Size([1, 1, 10])\n"
          ]
        }
      ]
    },
    {
      "cell_type": "markdown",
      "source": [
        "##INDEXING"
      ],
      "metadata": {
        "id": "X2VvaPTVh3ld"
      }
    },
    {
      "cell_type": "code",
      "source": [
        "import torch"
      ],
      "metadata": {
        "id": "PJ7BeH4Dh4u0"
      },
      "execution_count": 48,
      "outputs": []
    },
    {
      "cell_type": "code",
      "source": [
        "x = torch.arange(1,10).reshape(1,3,3)\n",
        "x, x.shape"
      ],
      "metadata": {
        "colab": {
          "base_uri": "https://localhost:8080/"
        },
        "id": "DwNMQIU7h6DI",
        "outputId": "6f8a7f37-0424-48de-f823-29202c9ec171"
      },
      "execution_count": 49,
      "outputs": [
        {
          "output_type": "execute_result",
          "data": {
            "text/plain": [
              "(tensor([[[1, 2, 3],\n",
              "          [4, 5, 6],\n",
              "          [7, 8, 9]]]),\n",
              " torch.Size([1, 3, 3]))"
            ]
          },
          "metadata": {},
          "execution_count": 49
        }
      ]
    },
    {
      "cell_type": "code",
      "source": [
        "x[0]"
      ],
      "metadata": {
        "colab": {
          "base_uri": "https://localhost:8080/"
        },
        "id": "Pw9NPt1OiCau",
        "outputId": "905c7b45-ca21-4025-d6e4-6fa72fd5fc3c"
      },
      "execution_count": 50,
      "outputs": [
        {
          "output_type": "execute_result",
          "data": {
            "text/plain": [
              "tensor([[1, 2, 3],\n",
              "        [4, 5, 6],\n",
              "        [7, 8, 9]])"
            ]
          },
          "metadata": {},
          "execution_count": 50
        }
      ]
    },
    {
      "cell_type": "code",
      "source": [
        "x[0][0]"
      ],
      "metadata": {
        "colab": {
          "base_uri": "https://localhost:8080/"
        },
        "id": "-vXSyiGeiJqE",
        "outputId": "fd5fa696-93bf-4b02-bac2-4f8b632275f0"
      },
      "execution_count": 51,
      "outputs": [
        {
          "output_type": "execute_result",
          "data": {
            "text/plain": [
              "tensor([1, 2, 3])"
            ]
          },
          "metadata": {},
          "execution_count": 51
        }
      ]
    },
    {
      "cell_type": "code",
      "source": [
        "x[0][1][0]"
      ],
      "metadata": {
        "colab": {
          "base_uri": "https://localhost:8080/"
        },
        "id": "NrFechO5iLWo",
        "outputId": "da383b7f-d36f-4a61-b327-de087c4994f9"
      },
      "execution_count": 52,
      "outputs": [
        {
          "output_type": "execute_result",
          "data": {
            "text/plain": [
              "tensor(4)"
            ]
          },
          "metadata": {},
          "execution_count": 52
        }
      ]
    },
    {
      "cell_type": "code",
      "source": [
        "x[0][1][0] = 999\n",
        "x"
      ],
      "metadata": {
        "colab": {
          "base_uri": "https://localhost:8080/"
        },
        "id": "k_X32Rg9iNMP",
        "outputId": "f0acf79a-329a-415a-f1b4-c356c06d1a7b"
      },
      "execution_count": 53,
      "outputs": [
        {
          "output_type": "execute_result",
          "data": {
            "text/plain": [
              "tensor([[[  1,   2,   3],\n",
              "         [999,   5,   6],\n",
              "         [  7,   8,   9]]])"
            ]
          },
          "metadata": {},
          "execution_count": 53
        }
      ]
    },
    {
      "cell_type": "markdown",
      "source": [
        "##REPRODUCIBILITY (trying to take out random out of random)\n",
        "\n",
        "Every time you use `torch.rand` it will gives you a different random numbers. But what if you want the random numbers to be less random everytime you run your code.\n",
        "\n",
        "To reduce the randomness in neural networks and PyTorch comes with a concept of a **random seed**\n",
        "\n",
        "Essiantially what random seed does is flavour the randomness"
      ],
      "metadata": {
        "id": "091UOW2Ki_uP"
      }
    },
    {
      "cell_type": "code",
      "source": [
        "torch.rand(3,4)"
      ],
      "metadata": {
        "colab": {
          "base_uri": "https://localhost:8080/"
        },
        "id": "clQNa0gIjB1J",
        "outputId": "eeb88fcb-1635-41b7-c196-417256c58c37"
      },
      "execution_count": 55,
      "outputs": [
        {
          "output_type": "execute_result",
          "data": {
            "text/plain": [
              "tensor([[0.3431, 0.5269, 0.7820, 0.7685],\n",
              "        [0.5475, 0.6939, 0.8661, 0.2073],\n",
              "        [0.6936, 0.5828, 0.7984, 0.5004]])"
            ]
          },
          "metadata": {},
          "execution_count": 55
        }
      ]
    },
    {
      "cell_type": "code",
      "source": [
        "# lets make some random but reproducible tensors\n",
        "RANDOM_SEED = 42 #42 is the most common one\n",
        "\n",
        "torch.manual_seed(RANDOM_SEED)\n",
        "random_tensor_a = torch.rand(3,4)\n",
        "\n",
        "torch.manual_seed(RANDOM_SEED)\n",
        "random_tensor_b = torch.rand(3,4)\n",
        "\n",
        "print(random_tensor_a)\n",
        "print(random_tensor_b)\n",
        "print(random_tensor_b == random_tensor_a)"
      ],
      "metadata": {
        "colab": {
          "base_uri": "https://localhost:8080/"
        },
        "id": "1lOmSqI9lKjN",
        "outputId": "2cb870fd-fc66-463d-b30d-9de10585ad72"
      },
      "execution_count": 57,
      "outputs": [
        {
          "output_type": "stream",
          "name": "stdout",
          "text": [
            "tensor([[0.8823, 0.9150, 0.3829, 0.9593],\n",
            "        [0.3904, 0.6009, 0.2566, 0.7936],\n",
            "        [0.9408, 0.1332, 0.9346, 0.5936]])\n",
            "tensor([[0.8823, 0.9150, 0.3829, 0.9593],\n",
            "        [0.3904, 0.6009, 0.2566, 0.7936],\n",
            "        [0.9408, 0.1332, 0.9346, 0.5936]])\n",
            "tensor([[True, True, True, True],\n",
            "        [True, True, True, True],\n",
            "        [True, True, True, True]])\n"
          ]
        }
      ]
    },
    {
      "cell_type": "code",
      "source": [
        "torch.manual_seed(RANDOM_SEED)\n",
        "random_tensor_c = torch.rand(3,4)\n",
        "\n",
        "print(random_tensor_c==random_tensor_a)"
      ],
      "metadata": {
        "colab": {
          "base_uri": "https://localhost:8080/"
        },
        "id": "g_J3oadUlt7F",
        "outputId": "0c62f392-ac76-4465-bf44-8d78ee868bfb"
      },
      "execution_count": 58,
      "outputs": [
        {
          "output_type": "stream",
          "name": "stdout",
          "text": [
            "tensor([[True, True, True, True],\n",
            "        [True, True, True, True],\n",
            "        [True, True, True, True]])\n"
          ]
        }
      ]
    },
    {
      "cell_type": "code",
      "source": [],
      "metadata": {
        "id": "zG30KmgMmFMK"
      },
      "execution_count": null,
      "outputs": []
    }
  ]
}